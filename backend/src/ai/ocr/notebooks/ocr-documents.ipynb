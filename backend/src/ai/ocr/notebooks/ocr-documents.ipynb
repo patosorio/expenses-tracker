{
 "cells": [
  {
   "cell_type": "markdown",
   "id": "1aac0c07",
   "metadata": {},
   "source": [
    "# OCR Expense Detection - Research & Prototyping\n",
    "### SmartBudget360 - PDF/Image Receipt Processing"
   ]
  },
  {
   "cell_type": "code",
   "execution_count": 11,
   "id": "ee47b7a1",
   "metadata": {},
   "outputs": [],
   "source": [
    "import os\n",
    "import json\n",
    "import pandas as pd\n",
    "import numpy as np\n",
    "from datetime import datetime\n",
    "from typing import Dict, List, Optional, Tuple\n",
    "import re\n",
    "from decimal import Decimal"
   ]
  },
  {
   "cell_type": "code",
   "execution_count": 12,
   "id": "ad45d00b",
   "metadata": {},
   "outputs": [],
   "source": [
    "# Google Cloud Vision API\n",
    "from google.cloud import vision\n",
    "from google.cloud.vision_v1 import types"
   ]
  },
  {
   "cell_type": "code",
   "execution_count": 13,
   "id": "fe406ae4",
   "metadata": {},
   "outputs": [],
   "source": [
    "# PDF processing\n",
    "import PyPDF2\n",
    "from pdf2image import convert_from_path\n",
    "# import fitz"
   ]
  },
  {
   "cell_type": "code",
   "execution_count": 14,
   "id": "dc3993ea",
   "metadata": {},
   "outputs": [],
   "source": [
    "# Image processing\n",
    "from PIL import Image, ImageEnhance\n",
    "import cv2"
   ]
  },
  {
   "cell_type": "code",
   "execution_count": 15,
   "id": "9fd78baa",
   "metadata": {},
   "outputs": [],
   "source": [
    "# ML for data extraction\n",
    "from sklearn.feature_extraction.text import TfidfVectorizer\n",
    "from sklearn.metrics.pairwise import cosine_similarity\n",
    "import spacy"
   ]
  },
  {
   "cell_type": "code",
   "execution_count": 17,
   "id": "92a8da6d",
   "metadata": {},
   "outputs": [],
   "source": [
    "# Set up Google Cloud credentials\n",
    "credentials_url = os.getenv('GOOGLE_APPLICATION_CREDENTIALS')"
   ]
  },
  {
   "cell_type": "code",
   "execution_count": null,
   "id": "f94718cd",
   "metadata": {},
   "outputs": [],
   "source": []
  }
 ],
 "metadata": {
  "kernelspec": {
   "display_name": "venv",
   "language": "python",
   "name": "python3"
  },
  "language_info": {
   "codemirror_mode": {
    "name": "ipython",
    "version": 3
   },
   "file_extension": ".py",
   "mimetype": "text/x-python",
   "name": "python",
   "nbconvert_exporter": "python",
   "pygments_lexer": "ipython3",
   "version": "3.13.2"
  }
 },
 "nbformat": 4,
 "nbformat_minor": 5
}
