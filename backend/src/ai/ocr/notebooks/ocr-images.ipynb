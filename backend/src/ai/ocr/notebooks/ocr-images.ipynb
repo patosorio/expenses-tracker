{
 "cells": [
  {
   "cell_type": "markdown",
   "id": "1aac0c07",
   "metadata": {},
   "source": [
    "### OCR Expense Detection - Research & Prototyping\n",
    "#### SmartBudget360 - PDF/Image Receipt Processing"
   ]
  },
  {
   "cell_type": "code",
   "execution_count": 40,
   "id": "6c876402",
   "metadata": {},
   "outputs": [
    {
     "name": "stdout",
     "output_type": "stream",
     "text": [
      "Libraries imported and APIs configured.\n"
     ]
    }
   ],
   "source": [
    "import os\n",
    "import io\n",
    "import json\n",
    "import re\n",
    "from PIL import Image\n",
    "from google.cloud import vision\n",
    "\n",
    "# Set up Google Cloud credentials\n",
    "os.environ['GOOGLE_APPLICATION_CREDENTIALS'] = '../../../gcp/cloud-vision-service-account.json'\n",
    "print(\"Libraries imported and APIs configured.\")"
   ]
  }
 ],
 "metadata": {
  "kernelspec": {
   "display_name": "venv",
   "language": "python",
   "name": "python3"
  },
  "language_info": {
   "codemirror_mode": {
    "name": "ipython",
    "version": 3
   },
   "file_extension": ".py",
   "mimetype": "text/x-python",
   "name": "python",
   "nbconvert_exporter": "python",
   "pygments_lexer": "ipython3",
   "version": "3.13.2"
  }
 },
 "nbformat": 4,
 "nbformat_minor": 5
}
